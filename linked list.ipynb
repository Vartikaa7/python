{
 "cells": [
  {
   "cell_type": "code",
   "execution_count": 1,
   "metadata": {},
   "outputs": [],
   "source": [
    "class node:\n",
    "    def __init__(self,data):\n",
    "        self.data=data\n",
    "        self.next=None\n",
    "class linkedlist:\n",
    "    def __init__(self):\n",
    "        self.head=None\n",
    "    def insertattop(self,data):\n",
    "        new_node=node(data)\n",
    "        if self.head is None:\n",
    "            self.head=new_node\n",
    "        else:\n",
    "            new_node.next=self.head\n",
    "            self.head=new_node\n",
    "    def insertatend(self,data):\n",
    "        p=self.head\n",
    "        while p.next!=None:\n",
    "            p=p.next\n",
    "        new_node=node(data)\n",
    "        p.next=new_node\n",
    "    def insertatposition(self,data,pos):\n",
    "        p=self.head\n",
    "        i=1\n",
    "        while i<pos-1:\n",
    "            p=p.next\n",
    "        new_node=node(data)\n",
    "        new_node.next=p.next\n",
    "        p.next=new_node\n",
    "    def removeatbegin(self):\n",
    "        p=self.head\n",
    "        self.head=p.next\n",
    "        p.next=None\n",
    "    def removeatposition(self,pos):\n",
    "        p=self.head\n",
    "        i=1\n",
    "        if pos==1:\n",
    "            self.removeatbegin()\n",
    "        else:\n",
    "            while i<pos-1:\n",
    "                p=p.next\n",
    "                i+=1\n",
    "                p.next=p.next.next\n",
    "                p.next.next=None\n",
    "    def removeatend(self):\n",
    "        p=self.head\n",
    "        while p.next.next!=None:\n",
    "            p=p.next\n",
    "        p.next=None\n",
    "        \n",
    "        \n",
    "    def display(s):\n",
    "        current=s.head\n",
    "        while current.next!=None:\n",
    "            print(current.data,end='->')\n",
    "            current=current.next\n",
    "        print(current.data,end='->')\n",
    "        print(current.next)\n",
    "\n",
    "    def rev(s):\n",
    "        current=s.head\n",
    "        prev=None\n",
    "        while current!=None:\n",
    "            next_node=current.next\n",
    "            current.next=prev\n",
    "            prev=current\n",
    "            current=next_node\n",
    "        s.head=prev\n",
    "    \n",
    "    \n",
    "        "
   ]
  },
  {
   "cell_type": "code",
   "execution_count": 2,
   "metadata": {},
   "outputs": [
    {
     "name": "stdout",
     "output_type": "stream",
     "text": [
      "6->None\n"
     ]
    }
   ],
   "source": [
    "x=linkedlist()\n",
    "x.insertattop(6)\n",
    "x.display()"
   ]
  },
  {
   "cell_type": "code",
   "execution_count": null,
   "metadata": {},
   "outputs": [],
   "source": []
  },
  {
   "cell_type": "code",
   "execution_count": 3,
   "metadata": {},
   "outputs": [
    {
     "name": "stdout",
     "output_type": "stream",
     "text": [
      "7->5->6->3->None\n"
     ]
    }
   ],
   "source": [
    "x.insertattop(7)\n",
    "x.insertatend(3)\n",
    "x.insertatposition(5,2)\n",
    "x.display()"
   ]
  },
  {
   "cell_type": "code",
   "execution_count": 4,
   "metadata": {},
   "outputs": [
    {
     "name": "stdout",
     "output_type": "stream",
     "text": [
      "7->5->6->None\n"
     ]
    }
   ],
   "source": [
    "x.removeatend()\n",
    "x.display()"
   ]
  },
  {
   "cell_type": "code",
   "execution_count": null,
   "metadata": {},
   "outputs": [],
   "source": []
  },
  {
   "cell_type": "code",
   "execution_count": null,
   "metadata": {},
   "outputs": [],
   "source": []
  },
  {
   "cell_type": "code",
   "execution_count": 38,
   "metadata": {},
   "outputs": [],
   "source": [
    "class dnode:\n",
    "    def __init__(self,data):\n",
    "        self.data=data\n",
    "        self.next=None\n",
    "        self.prev=None\n",
    "class dlinkedlist:\n",
    "    def __init__(self):\n",
    "        self.head=None\n",
    "    def insertatbegin(self,data):\n",
    "        new_node=dnode(data)\n",
    "        if self.head is None:\n",
    "            self.head=new_node\n",
    "        else:\n",
    "            new_node.next=self.head\n",
    "            self.head.prev=new_node\n",
    "            self.head=new_node\n",
    "    def insertatend(self,data):\n",
    "        p=self.head\n",
    "        while p.next!=None:\n",
    "            p=p.next\n",
    "        new_node=dnode(data)\n",
    "        p.next=new_node\n",
    "        new_node.prev=p\n",
    "    def insertatposition(self,data,position):\n",
    "        p=self.head\n",
    "        i=1\n",
    "        while i<position:\n",
    "            p=p.next\n",
    "            i+=1\n",
    "        new_node=dnode(data)\n",
    "        new_node.next=p.next\n",
    "        p.next=new_node\n",
    "        new_node.prev=p\n",
    "        p.next.prev=new_node\n",
    "        \n",
    "    \n",
    "    def removeatbegin(self):\n",
    "        p=self.head\n",
    "        self.head=p.next\n",
    "        p.next=None\n",
    "        p.prev=None\n",
    "        del p\n",
    "    def removeatposition(self,position):\n",
    "        i=1\n",
    "        p=self.head\n",
    "        while i<position-1:\n",
    "            p=p.next\n",
    "            i+=1\n",
    "        c=p.next\n",
    "        p.next=p.next.next\n",
    "        p.next.next.prev=p\n",
    "        c.next=None\n",
    "        c.prev=None\n",
    "        del c\n",
    "        \n",
    "    def display(s):\n",
    "        current=s.head\n",
    "        while current.next!=None:\n",
    "            print(current.data,end='->')\n",
    "            current=current.next\n",
    "        print(current.data,end='->')\n",
    "        print(current.next)\n",
    "    \n",
    "        \n",
    "        "
   ]
  },
  {
   "cell_type": "code",
   "execution_count": 39,
   "metadata": {},
   "outputs": [],
   "source": [
    "x=dlinkedlist()"
   ]
  },
  {
   "cell_type": "code",
   "execution_count": 40,
   "metadata": {},
   "outputs": [],
   "source": [
    "x.insertatbegin(3)"
   ]
  },
  {
   "cell_type": "code",
   "execution_count": 41,
   "metadata": {},
   "outputs": [
    {
     "name": "stdout",
     "output_type": "stream",
     "text": [
      "3->None\n"
     ]
    }
   ],
   "source": [
    "x.display()"
   ]
  },
  {
   "cell_type": "code",
   "execution_count": 42,
   "metadata": {},
   "outputs": [],
   "source": [
    "x.insertatend(4)"
   ]
  },
  {
   "cell_type": "code",
   "execution_count": 43,
   "metadata": {},
   "outputs": [
    {
     "name": "stdout",
     "output_type": "stream",
     "text": [
      "3->4->None\n"
     ]
    }
   ],
   "source": [
    "x.display()"
   ]
  },
  {
   "cell_type": "raw",
   "metadata": {},
   "source": [
    "x.insertatposition(2)"
   ]
  },
  {
   "cell_type": "code",
   "execution_count": 44,
   "metadata": {},
   "outputs": [
    {
     "name": "stdout",
     "output_type": "stream",
     "text": [
      "3->4->None\n"
     ]
    }
   ],
   "source": [
    "x.display()"
   ]
  },
  {
   "cell_type": "code",
   "execution_count": 45,
   "metadata": {},
   "outputs": [],
   "source": [
    "x.insertatend(10)"
   ]
  },
  {
   "cell_type": "code",
   "execution_count": 46,
   "metadata": {},
   "outputs": [],
   "source": [
    "x.insertatposition(3,2)"
   ]
  },
  {
   "cell_type": "code",
   "execution_count": 47,
   "metadata": {},
   "outputs": [
    {
     "name": "stdout",
     "output_type": "stream",
     "text": [
      "3->4->3->10->None\n"
     ]
    }
   ],
   "source": [
    "x.display()"
   ]
  },
  {
   "cell_type": "code",
   "execution_count": 48,
   "metadata": {},
   "outputs": [],
   "source": [
    "x.insertatposition(2,3)"
   ]
  },
  {
   "cell_type": "code",
   "execution_count": 49,
   "metadata": {},
   "outputs": [
    {
     "name": "stdout",
     "output_type": "stream",
     "text": [
      "3->4->3->2->10->None\n"
     ]
    }
   ],
   "source": [
    "x.display()"
   ]
  },
  {
   "cell_type": "code",
   "execution_count": 50,
   "metadata": {},
   "outputs": [
    {
     "name": "stdout",
     "output_type": "stream",
     "text": [
      "3->4->3->2->10->None\n"
     ]
    }
   ],
   "source": [
    "x.display()\n"
   ]
  },
  {
   "cell_type": "code",
   "execution_count": null,
   "metadata": {},
   "outputs": [],
   "source": []
  },
  {
   "cell_type": "code",
   "execution_count": 51,
   "metadata": {},
   "outputs": [],
   "source": [
    "x.removeatposition(3)"
   ]
  },
  {
   "cell_type": "code",
   "execution_count": 52,
   "metadata": {},
   "outputs": [
    {
     "name": "stdout",
     "output_type": "stream",
     "text": [
      "3->4->2->10->None\n"
     ]
    }
   ],
   "source": [
    "x.display()"
   ]
  },
  {
   "cell_type": "raw",
   "metadata": {},
   "source": [
    "x.display()"
   ]
  },
  {
   "cell_type": "code",
   "execution_count": 53,
   "metadata": {},
   "outputs": [
    {
     "name": "stdout",
     "output_type": "stream",
     "text": [
      "3->4->2->10->None\n"
     ]
    }
   ],
   "source": [
    "x.display()"
   ]
  },
  {
   "cell_type": "code",
   "execution_count": 54,
   "metadata": {},
   "outputs": [],
   "source": [
    "x.removeatbegin()"
   ]
  },
  {
   "cell_type": "code",
   "execution_count": 55,
   "metadata": {},
   "outputs": [
    {
     "name": "stdout",
     "output_type": "stream",
     "text": [
      "4->2->10->None\n"
     ]
    }
   ],
   "source": [
    "x.display()"
   ]
  },
  {
   "cell_type": "code",
   "execution_count": null,
   "metadata": {},
   "outputs": [
    {
     "name": "stdout",
     "output_type": "stream",
     "text": [
      "1.push in a stack\n",
      "2.pop in a stack\n",
      "3.display stack\n",
      "4.peek stack\n",
      "5.Exit\n"
     ]
    },
    {
     "name": "stdin",
     "output_type": "stream",
     "text": [
      "enter your choice 1\n",
      "enter data 3\n"
     ]
    },
    {
     "name": "stdout",
     "output_type": "stream",
     "text": [
      "element push successfully\n"
     ]
    },
    {
     "name": "stdin",
     "output_type": "stream",
     "text": [
      "enter your choice 4\n"
     ]
    },
    {
     "name": "stdout",
     "output_type": "stream",
     "text": [
      "3\n"
     ]
    },
    {
     "name": "stdin",
     "output_type": "stream",
     "text": [
      "enter your choice 4\n"
     ]
    },
    {
     "name": "stdout",
     "output_type": "stream",
     "text": [
      "3\n"
     ]
    },
    {
     "name": "stdin",
     "output_type": "stream",
     "text": [
      "enter your choice 3\n"
     ]
    },
    {
     "name": "stdout",
     "output_type": "stream",
     "text": [
      "3->None\n"
     ]
    }
   ],
   "source": [
    "class node:\n",
    "    def __init__(self,data):\n",
    "        self.data=data\n",
    "        self.next=None\n",
    "class linkedlist_stack:\n",
    "    def __init__(self):\n",
    "        self.top=None\n",
    "    def push(self,data):\n",
    "        new_node=node(data)\n",
    "        if self.top is None:\n",
    "            self.top=new_node\n",
    "        else:\n",
    "            new_node.next=self.top\n",
    "            self.top=new_node\n",
    "    def pop(self):\n",
    "        p=self.top\n",
    "        self.top=p.next\n",
    "        p.next=None\n",
    "    def display(s):\n",
    "        current=s.top\n",
    "        while current.next!=None:\n",
    "            print(current.data,end='->')\n",
    "            current=current.next\n",
    "        print(current.data,end='->')\n",
    "        print(current.next)\n",
    "    def peek(s):\n",
    "        p=s.top\n",
    "        while p.next!=None:\n",
    "            p=p.next\n",
    "        print(p.data)\n",
    "x=linkedlist_stack()\n",
    "print(\"\"\"1.push in a stack\n",
    "2.pop in a stack\n",
    "3.display stack\n",
    "4.peek stack\n",
    "5.Exit\"\"\")\n",
    "t=True\n",
    "while t:\n",
    "    c=int(input(\"enter your choice\"))\n",
    "    if c==1:\n",
    "        a=int(input(\"enter data\"))\n",
    "        x.push(a)\n",
    "        print(\"element push successfully\")\n",
    "    elif c==2:\n",
    "        x.pop()\n",
    "        print(\"element remove successfully\")\n",
    "    elif c==3:\n",
    "        x.display()\n",
    "    elif c==4:\n",
    "        x.peek()\n",
    "    elif c==5:\n",
    "        t=False\n",
    "    else:\n",
    "        print(\"invalid choice\")\n",
    "    \n",
    "\n",
    "    \n",
    "    \n",
    "    \n",
    "    "
   ]
  },
  {
   "cell_type": "code",
   "execution_count": null,
   "metadata": {},
   "outputs": [],
   "source": []
  },
  {
   "cell_type": "code",
   "execution_count": null,
   "metadata": {},
   "outputs": [],
   "source": []
  },
  {
   "cell_type": "code",
   "execution_count": null,
   "metadata": {},
   "outputs": [],
   "source": []
  },
  {
   "cell_type": "code",
   "execution_count": 1,
   "metadata": {},
   "outputs": [],
   "source": [
    "class Node:\n",
    "    def __init__(s,data):\n",
    "        s.data=data\n",
    "        s.next=None\n",
    "\n",
    "class Queue:\n",
    "    def __init__(s):\n",
    "        s.front=None\n",
    "        s.rear=None\n",
    "        s.size=0\n",
    "\n",
    "    def isEmpty(s):\n",
    "        if s.front==None and s.rear==None:\n",
    "            return True\n",
    "        return False\n",
    "\n",
    "    def display(s):\n",
    "        if s.isEmpty():\n",
    "            print(\".\")\n",
    "            return\n",
    "        current=s.front\n",
    "        while current!= None:\n",
    "            print(current.data,end=\"->\")\n",
    "            current=current.next\n",
    "        print(current)\n",
    "        \n",
    "    \n",
    "    def enqueue(s,data):\n",
    "        s.size+=1\n",
    "        new_node=Node(data)\n",
    "        if s.isEmpty():\n",
    "            s.front=s.rear=new_node\n",
    "            return\n",
    "        s.rear.next=new_node\n",
    "        s.rear=new_node\n",
    "        \n",
    "    def dequeue(s):\n",
    "        s.size-=1\n",
    "        if s.isEmpty():\n",
    "            print(\"Queue Underflow.\")\n",
    "            return\n",
    "        temp=s.front\n",
    "        s.front=s.front.next\n",
    "        value=temp.data\n",
    "        del temp\n",
    "        return value\n",
    "    def reversek(self,k):\n",
    "        self.solve(k)\n",
    "        for i in range(self.size-k):\n",
    "            self.enqueue(self.dequeue())\n",
    "            \n",
    "        \n",
    "\n",
    "    def solve(self,k):\n",
    "        if k==0:\n",
    "            return\n",
    "        else:\n",
    "            e=self.dequeue()\n",
    "            self.solve(k-1)\n",
    "            self.enqueue(e)\n",
    "class stack:\n",
    "    def __init__(self):\n",
    "        self.q1=Queue()\n",
    "        self.q2=Queue()\n",
    "    def n_push(s,item):\n",
    "        s.q2.enqueue(item)\n",
    "        while s.q1.front:\n",
    "            s.q2.enqueue(s.q1.dequeue())\n",
    "        n=s.q2\n",
    "        s.q1=s.q2\n",
    "        s.q2=n\n",
    "    def d(s):\n",
    "        s.q1.display()\n",
    "    def pop(s):\n",
    "        s.q1.dequeue()\n",
    "    def push(s,item):\n",
    "        self.q1.enqueue(item)\n",
    "    '''def n_pop(s):\n",
    "        while q1.front:'''\n",
    "            \n",
    "\n",
    "    \n",
    "        \n",
    "    \n",
    "    \n",
    "            \n"
   ]
  },
  {
   "cell_type": "code",
   "execution_count": 2,
   "metadata": {},
   "outputs": [],
   "source": [
    "x=Queue()\n"
   ]
  },
  {
   "cell_type": "code",
   "execution_count": 3,
   "metadata": {},
   "outputs": [],
   "source": [
    "x.enqueue(1)"
   ]
  },
  {
   "cell_type": "code",
   "execution_count": 4,
   "metadata": {},
   "outputs": [],
   "source": [
    "x.enqueue(2)"
   ]
  },
  {
   "cell_type": "code",
   "execution_count": 5,
   "metadata": {},
   "outputs": [],
   "source": [
    "x.enqueue(3)"
   ]
  },
  {
   "cell_type": "code",
   "execution_count": 6,
   "metadata": {},
   "outputs": [],
   "source": [
    "x.enqueue(4)"
   ]
  },
  {
   "cell_type": "code",
   "execution_count": 7,
   "metadata": {},
   "outputs": [
    {
     "name": "stdout",
     "output_type": "stream",
     "text": [
      "1->2->3->4->None\n"
     ]
    }
   ],
   "source": [
    "x.display()"
   ]
  },
  {
   "cell_type": "code",
   "execution_count": 8,
   "metadata": {},
   "outputs": [],
   "source": [
    "x.reversek(3)"
   ]
  },
  {
   "cell_type": "code",
   "execution_count": 9,
   "metadata": {},
   "outputs": [
    {
     "name": "stdout",
     "output_type": "stream",
     "text": [
      "3->2->1->4->None\n"
     ]
    }
   ],
   "source": [
    "x.display()"
   ]
  },
  {
   "cell_type": "code",
   "execution_count": 10,
   "metadata": {},
   "outputs": [],
   "source": [
    "x=stack()"
   ]
  },
  {
   "cell_type": "code",
   "execution_count": 11,
   "metadata": {},
   "outputs": [],
   "source": [
    "x.n_push(3)"
   ]
  },
  {
   "cell_type": "code",
   "execution_count": 12,
   "metadata": {},
   "outputs": [
    {
     "name": "stdout",
     "output_type": "stream",
     "text": [
      "3->None\n"
     ]
    }
   ],
   "source": [
    "x.d()"
   ]
  },
  {
   "cell_type": "code",
   "execution_count": 13,
   "metadata": {},
   "outputs": [],
   "source": [
    "x.pop()"
   ]
  },
  {
   "cell_type": "code",
   "execution_count": 14,
   "metadata": {},
   "outputs": [
    {
     "name": "stdout",
     "output_type": "stream",
     "text": [
      "None\n"
     ]
    }
   ],
   "source": [
    "x.d()"
   ]
  },
  {
   "cell_type": "code",
   "execution_count": 15,
   "metadata": {},
   "outputs": [],
   "source": [
    "x.n_push(4)"
   ]
  },
  {
   "cell_type": "code",
   "execution_count": 16,
   "metadata": {},
   "outputs": [
    {
     "name": "stdout",
     "output_type": "stream",
     "text": [
      "None\n"
     ]
    }
   ],
   "source": [
    "x.d()"
   ]
  },
  {
   "cell_type": "code",
   "execution_count": null,
   "metadata": {},
   "outputs": [],
   "source": []
  }
 ],
 "metadata": {
  "kernelspec": {
   "display_name": "Python 3 (ipykernel)",
   "language": "python",
   "name": "python3"
  },
  "language_info": {
   "codemirror_mode": {
    "name": "ipython",
    "version": 3
   },
   "file_extension": ".py",
   "mimetype": "text/x-python",
   "name": "python",
   "nbconvert_exporter": "python",
   "pygments_lexer": "ipython3",
   "version": "3.10.12"
  }
 },
 "nbformat": 4,
 "nbformat_minor": 4
}
