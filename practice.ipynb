{
 "cells": [
  {
   "cell_type": "code",
   "execution_count": 3,
   "id": "09dacc95-9e09-4959-a993-9299fdb1125a",
   "metadata": {},
   "outputs": [
    {
     "name": "stdout",
     "output_type": "stream",
     "text": [
      "1\n"
     ]
    }
   ],
   "source": [
    "str=\"ilovecoding\"\n",
    "if \"love\" in str:\n",
    "    a=str.find(\"love\")\n",
    "    print(a)"
   ]
  },
  {
   "cell_type": "code",
   "execution_count": 4,
   "id": "988d3e09-de4d-4165-91a3-bddb246837d1",
   "metadata": {},
   "outputs": [
    {
     "name": "stdout",
     "output_type": "stream",
     "text": [
      "10\n",
      "-1\n",
      "-1\n",
      "6\n"
     ]
    }
   ],
   "source": [
    "word = 'geeks for geeks'\n",
    "\n",
    "# Substring is searched in 'eks for geeks'\n",
    "print(word.find('ge', 2))\n",
    "\n",
    "# Substring is searched in 'eks for geeks'\n",
    "print(word.find('geeks ', 2))\n",
    "\n",
    "# Substring is searched in 's for g'\n",
    "print(word.find('g', 4, 10))\n",
    "\n",
    "# Substring is searched in 's for g'\n",
    "print(word.find('for ', 4, 11))\n"
   ]
  },
  {
   "cell_type": "code",
   "execution_count": 2,
   "id": "737614e8-6185-400f-a3b9-7aa5720a8322",
   "metadata": {},
   "outputs": [],
   "source": [
    "a={1:\"jdj\",\"da\":\"diej\"}\n"
   ]
  },
  {
   "cell_type": "code",
   "execution_count": 3,
   "id": "9c69f543-ffc8-4c26-bae0-9c3be473e0b5",
   "metadata": {},
   "outputs": [
    {
     "name": "stdout",
     "output_type": "stream",
     "text": [
      "{1: 'jdj', 'da': 'diej'}\n"
     ]
    }
   ],
   "source": [
    "print(a)"
   ]
  },
  {
   "cell_type": "code",
   "execution_count": 4,
   "id": "91f3e72c-3c97-49fe-8ce2-537ee7f17229",
   "metadata": {},
   "outputs": [
    {
     "name": "stdout",
     "output_type": "stream",
     "text": [
      "1\n",
      "da\n"
     ]
    }
   ],
   "source": [
    "for i in a:\n",
    "    print(i)"
   ]
  },
  {
   "cell_type": "code",
   "execution_count": 1,
   "id": "fe4a6838-8420-4f3f-bd9d-3833187ed1b2",
   "metadata": {},
   "outputs": [
    {
     "name": "stdout",
     "output_type": "stream",
     "text": [
      "{'This': 1, 'is': 1, 'a': 2, 'sample': 1, 'string': 3, 'to': 3, 'demonstrate': 1, 'how': 2, 'count': 1, 'word': 2, 'frequencies': 1, 'in': 2, 'given': 1, 'The': 1, 'words': 1, 'this': 1, 'will': 1, 'be': 1, 'counted': 1, 'show': 1, 'often': 1, 'each': 1, 'appears': 1}\n"
     ]
    }
   ],
   "source": [
    "s=\"This is a sample string to demonstrate how to count word frequencies in a given string. The words in this string will be counted to show how often each word appears.\"\n",
    "e=s.split(\" \")\n",
    "d={}\n",
    "for i in e:\n",
    "    if i[len(i)-1]==\".\":\n",
    "        i=i[0:len(i)-1]\n",
    "    d.setdefault(i,0)\n",
    "    d[i]+=1\n",
    "print(d)"
   ]
  },
  {
   "cell_type": "code",
   "execution_count": 1,
   "id": "99212bbf-51c5-403c-9ff4-1e272507fb7e",
   "metadata": {},
   "outputs": [
    {
     "name": "stdout",
     "output_type": "stream",
     "text": [
      "40320\n"
     ]
    }
   ],
   "source": [
    "def fact(n):\n",
    "    if n==1:\n",
    "        return 1\n",
    "    else:\n",
    "        return n*fact(n-1)\n",
    "print(fact(8))"
   ]
  },
  {
   "cell_type": "code",
   "execution_count": null,
   "id": "7215871f-82cd-4880-8c13-7d840cca77f9",
   "metadata": {},
   "outputs": [],
   "source": []
  }
 ],
 "metadata": {
  "kernelspec": {
   "display_name": "Python 3 (ipykernel)",
   "language": "python",
   "name": "python3"
  },
  "language_info": {
   "codemirror_mode": {
    "name": "ipython",
    "version": 3
   },
   "file_extension": ".py",
   "mimetype": "text/x-python",
   "name": "python",
   "nbconvert_exporter": "python",
   "pygments_lexer": "ipython3",
   "version": "3.10.12"
  }
 },
 "nbformat": 4,
 "nbformat_minor": 5
}
